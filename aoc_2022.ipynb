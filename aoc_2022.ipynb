{
 "cells": [
  {
   "cell_type": "markdown",
   "metadata": {},
   "source": [
    "# AoC 2022"
   ]
  },
  {
   "cell_type": "code",
   "execution_count": 1,
   "metadata": {},
   "outputs": [],
   "source": [
    "import numpy as np\n",
    "import string"
   ]
  },
  {
   "cell_type": "markdown",
   "metadata": {},
   "source": [
    "## Day 1"
   ]
  },
  {
   "cell_type": "code",
   "execution_count": 2,
   "metadata": {},
   "outputs": [],
   "source": [
    "cal_list = []\n",
    "with open(\"input_011222.txt\") as input:\n",
    "    cal = 0\n",
    "    for line in input:\n",
    "        if line.strip():\n",
    "            cal += int(line)\n",
    "        else:\n",
    "            cal_list.append(cal)\n",
    "            cal=0\n",
    "\n",
    "cal_array = np.array(cal_list)\n",
    "\n",
    "total = np.sum(np.sort(cal_array)[-3:])\n"
   ]
  },
  {
   "cell_type": "markdown",
   "metadata": {},
   "source": [
    "## Day 2"
   ]
  },
  {
   "cell_type": "code",
   "execution_count": 38,
   "metadata": {},
   "outputs": [
    {
     "data": {
      "text/plain": [
       "11873"
      ]
     },
     "execution_count": 38,
     "metadata": {},
     "output_type": "execute_result"
    }
   ],
   "source": [
    "shape_score = {'X': 1, 'Y': 2, 'Z': 3}\n",
    "win = {'X': 'C', 'Y': 'A', 'Z': 'B'}\n",
    "corr = {'X': 'A', 'Y': 'B', 'Z': 'C'}\n",
    "\n",
    "with open(\"input_021222.txt\") as input:\n",
    "    score = 0\n",
    "    for line in input:\n",
    "        shape = line[2]\n",
    "        score += shape_score[shape]\n",
    "        if win[shape] == line[0]:\n",
    "            score += 6\n",
    "        elif corr[shape] == line[0]:\n",
    "            score +=3\n",
    "\n",
    "score"
   ]
  },
  {
   "cell_type": "code",
   "execution_count": 48,
   "metadata": {},
   "outputs": [
    {
     "data": {
      "text/plain": [
       "12014"
      ]
     },
     "execution_count": 48,
     "metadata": {},
     "output_type": "execute_result"
    }
   ],
   "source": [
    "result = {'X': 0, 'Y': 3, 'Z': 6}\n",
    "win = {'A': 'C', 'B': 'A', 'C': 'B'}\n",
    "lose = {'A': 'B', 'B': 'C', 'C': 'A'}\n",
    "shape_score = {'A': 1, 'B': 2, 'C': 3}\n",
    "\n",
    "with open(\"input_021222.txt\") as input:\n",
    "    score = 0\n",
    "    for line in input:\n",
    "        strat = line[2]\n",
    "        score += result[strat]\n",
    "        if strat == 'Y':\n",
    "            score += shape_score[line[0]]\n",
    "        elif strat == 'X':\n",
    "            score += shape_score[win[line[0]]]\n",
    "        else:\n",
    "            score += shape_score[lose[line[0]]]\n",
    "\n",
    "score"
   ]
  },
  {
   "cell_type": "markdown",
   "metadata": {},
   "source": [
    "## Day 3"
   ]
  },
  {
   "cell_type": "code",
   "execution_count": 15,
   "metadata": {},
   "outputs": [],
   "source": [
    "double_element = []\n",
    "with open(\"input_031222.txt\") as input:\n",
    "    for line in input:\n",
    "        n = len(line)\n",
    "        for i in range(n//2):\n",
    "            if line[i] in line[n//2:]:\n",
    "                double_element.append(line[i])\n",
    "                break\n",
    "\n",
    "dic_lower = {letter: i+1 for (i,letter) in enumerate(string.ascii_lowercase)}\n",
    "dic_upper = {letter: i+27 for (i,letter) in enumerate(string.ascii_uppercase)}\n",
    "dic = {**dic_lower, **dic_upper}"
   ]
  },
  {
   "cell_type": "code",
   "execution_count": 16,
   "metadata": {},
   "outputs": [
    {
     "data": {
      "text/plain": [
       "8053"
      ]
     },
     "execution_count": 16,
     "metadata": {},
     "output_type": "execute_result"
    }
   ],
   "source": [
    "sum_prio = 0\n",
    "for letter in double_element:\n",
    "    sum_prio += dic[letter]\n",
    "\n",
    "sum_prio"
   ]
  },
  {
   "cell_type": "code",
   "execution_count": 30,
   "metadata": {},
   "outputs": [],
   "source": [
    "rucksacks = []\n",
    "with open(\"input_031222.txt\") as input:\n",
    "    for line in input:\n",
    "        rucksacks.append(line[:-1])\n",
    "\n",
    "rucksacks = np.array(rucksacks)\n",
    "\n",
    "badges = []\n",
    "for i in range(len(rucksacks)//3):\n",
    "    for letter in rucksacks[3*i]:\n",
    "        if letter in rucksacks[3*i+1]:\n",
    "            if letter in rucksacks[3*i+2]:\n",
    "                badges.append(letter)\n",
    "                break\n"
   ]
  },
  {
   "cell_type": "code",
   "execution_count": 31,
   "metadata": {},
   "outputs": [
    {
     "data": {
      "text/plain": [
       "2425"
      ]
     },
     "execution_count": 31,
     "metadata": {},
     "output_type": "execute_result"
    }
   ],
   "source": [
    "sum_prio = 0\n",
    "for letter in badges:\n",
    "    sum_prio += dic[letter]\n",
    "\n",
    "sum_prio"
   ]
  },
  {
   "cell_type": "markdown",
   "metadata": {},
   "source": [
    "## Day 4"
   ]
  },
  {
   "cell_type": "code",
   "execution_count": 27,
   "metadata": {},
   "outputs": [],
   "source": [
    "pairs = []\n",
    "with open(\"input_041222.txt\") as input:\n",
    "    pair = []\n",
    "    limit = \"\"\n",
    "    for line in input:\n",
    "        for l in line:\n",
    "            if l == \",\":\n",
    "                pair.append(int(limit))\n",
    "                limit=\"\"\n",
    "            elif l == \"-\":\n",
    "                pair.append(int(limit))\n",
    "                limit=\"\"\n",
    "            elif l == \"\\n\":\n",
    "                pair.append(int(limit))\n",
    "                pairs.append(pair)\n",
    "                pair=[]\n",
    "                limit=\"\"\n",
    "            else:\n",
    "                limit+=l\n",
    "\n",
    "pairs = np.array(pairs)\n"
   ]
  },
  {
   "cell_type": "code",
   "execution_count": 29,
   "metadata": {},
   "outputs": [
    {
     "data": {
      "text/plain": [
       "526"
      ]
     },
     "execution_count": 29,
     "metadata": {},
     "output_type": "execute_result"
    }
   ],
   "source": [
    "fully_contained = 0\n",
    "for pair in pairs:\n",
    "    if pair[0] <= pair[2] and pair[1] >= pair[3]:\n",
    "        fully_contained+=1\n",
    "    elif pair[2] <= pair[0] and pair[3] >= pair[1]:\n",
    "        fully_contained+=1\n",
    "\n",
    "fully_contained"
   ]
  },
  {
   "cell_type": "code",
   "execution_count": 30,
   "metadata": {},
   "outputs": [
    {
     "data": {
      "text/plain": [
       "886"
      ]
     },
     "execution_count": 30,
     "metadata": {},
     "output_type": "execute_result"
    }
   ],
   "source": [
    "overlapping = 0\n",
    "for pair in pairs:\n",
    "    if pair[1] >= pair[2] and pair[0] <= pair[2]:\n",
    "        overlapping+=1\n",
    "    elif pair[3] >= pair[0] and pair[2] <= pair[0]:\n",
    "        overlapping+=1\n",
    "\n",
    "overlapping"
   ]
  },
  {
   "cell_type": "code",
   "execution_count": null,
   "metadata": {},
   "outputs": [],
   "source": []
  }
 ],
 "metadata": {
  "kernelspec": {
   "display_name": "Python 3.9.15 ('aoc')",
   "language": "python",
   "name": "python3"
  },
  "language_info": {
   "codemirror_mode": {
    "name": "ipython",
    "version": 3
   },
   "file_extension": ".py",
   "mimetype": "text/x-python",
   "name": "python",
   "nbconvert_exporter": "python",
   "pygments_lexer": "ipython3",
   "version": "3.9.15"
  },
  "orig_nbformat": 4,
  "vscode": {
   "interpreter": {
    "hash": "7a5f44e326ee535fd5345826ed2edeb4435baf183f37d62ac6c1133e5d4ce51a"
   }
  }
 },
 "nbformat": 4,
 "nbformat_minor": 2
}
